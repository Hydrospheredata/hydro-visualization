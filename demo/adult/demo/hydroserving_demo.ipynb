{
 "cells": [
  {
   "cell_type": "markdown",
   "metadata": {
    "colab_type": "text",
    "id": "2Gq2lJz1SRor"
   },
   "source": [
    "# Census Income Classification on HS"
   ]
  },
  {
   "cell_type": "markdown",
   "metadata": {
    "colab_type": "text",
    "id": "quIYAbubSeN0"
   },
   "source": [
    "\n",
    "\n"
   ]
  },
  {
   "cell_type": "code",
   "execution_count": 1,
   "metadata": {
    "ExecuteTime": {
     "end_time": "2019-09-27T10:54:03.365662Z",
     "start_time": "2019-09-27T10:54:02.574751Z"
    },
    "colab": {
     "base_uri": "https://localhost:8080/",
     "height": 368
    },
    "colab_type": "code",
    "id": "i83cjv9RSbXf",
    "outputId": "38bee1c6-a351-48ba-80a0-7a67db2a0376"
   },
   "outputs": [],
   "source": [
    "import grpc\n",
    "import hydro_serving_grpc as hs\n",
    "import numpy as np"
   ]
  },
  {
   "cell_type": "markdown",
   "metadata": {
    "ExecuteTime": {
     "end_time": "2019-09-26T15:07:37.387747Z",
     "start_time": "2019-09-26T15:07:37.385127Z"
    },
    "colab": {
     "base_uri": "https://localhost:8080/",
     "height": 232
    },
    "colab_type": "code",
    "id": "JjobUoeqS_fK",
    "outputId": "97f79f18-d24e-4142-d90c-898ee3534e9d",
    "scrolled": false
   },
   "source": [
    "Connect to cluster via grpc"
   ]
  },
  {
   "cell_type": "code",
   "execution_count": 2,
   "metadata": {
    "ExecuteTime": {
     "end_time": "2019-09-27T10:54:03.375172Z",
     "start_time": "2019-09-27T10:54:03.368092Z"
    },
    "colab": {},
    "colab_type": "code",
    "id": "AgYQ8xHMXZbN"
   },
   "outputs": [],
   "source": [
    "# Connect to remote local\\dev GRPC stub\n",
    "IS_LOCAL_CLUSTER = True\n",
    "if IS_LOCAL_CLUSTER:\n",
    "    channel = grpc.insecure_channel(\"localhost:9090\") \n",
    "else:\n",
    "    creds = grpc.ssl_channel_credentials()\n",
    "    channel= grpc.secure_channel(\"dev.k8s.hydrosphere.io\", credentials=creds)\n",
    "    \n",
    "stub = hs.PredictionServiceStub(channel) \n"
   ]
  },
  {
   "cell_type": "code",
   "execution_count": 3,
   "metadata": {
    "ExecuteTime": {
     "end_time": "2019-09-27T10:54:03.379445Z",
     "start_time": "2019-09-27T10:54:03.376850Z"
    }
   },
   "outputs": [],
   "source": [
    "# Specify model spec\n",
    "model_spec = hs.ModelSpec(name=\"census_income_classification\")"
   ]
  },
  {
   "cell_type": "markdown",
   "metadata": {},
   "source": [
    "Test connection with one sample"
   ]
  },
  {
   "cell_type": "code",
   "execution_count": 4,
   "metadata": {
    "ExecuteTime": {
     "end_time": "2019-09-27T10:54:03.390876Z",
     "start_time": "2019-09-27T10:54:03.381239Z"
    }
   },
   "outputs": [],
   "source": [
    "def pack_value_into_request(val):\n",
    "    # Pack values into protobuff tensors\n",
    "\n",
    "    age_tensor = hs.TensorProto(dtype=hs.DT_INT64, int64_val=[val[0]])\n",
    "    workclass_tensor = hs.TensorProto(dtype=hs.DT_INT64, int64_val=[val[1]])\n",
    "    edu_tensor = hs.TensorProto(dtype=hs.DT_INT64, int64_val=[val[2]])\n",
    "    marital_tensor = hs.TensorProto(dtype=hs.DT_INT64, int64_val=[val[3]])\n",
    "    occupation_tensor = hs.TensorProto(dtype=hs.DT_INT64, int64_val=[val[4]])\n",
    "    relationship_tensor = hs.TensorProto(dtype=hs.DT_INT64, int64_val=[val[5]])\n",
    "    race_tensor = hs.TensorProto(dtype=hs.DT_INT64, int64_val=[val[6]])\n",
    "    sex_tensor = hs.TensorProto(dtype=hs.DT_INT64, int64_val=[val[7]])\n",
    "    gain_tensor = hs.TensorProto(dtype=hs.DT_INT64, int64_val=[val[8]])\n",
    "    loss_tensor = hs.TensorProto(dtype=hs.DT_INT64, int64_val=[val[9]])\n",
    "    hours_tensor = hs.TensorProto(dtype=hs.DT_INT64, int64_val=[val[10]])\n",
    "    country_tensor = hs.TensorProto(dtype=hs.DT_INT64, int64_val=[val[11]])\n",
    "    \n",
    "    # Pack tensors into a request\n",
    "    request = hs.PredictRequest(model_spec=model_spec, inputs={\"age\": age_tensor,\n",
    "                                                           \"workclass\": workclass_tensor, \n",
    "                                                           \"education\": edu_tensor,\n",
    "                                                           \"marital_status\": marital_tensor,\n",
    "                                                           \"occupation\": occupation_tensor,\n",
    "                                                           \"relationship\":relationship_tensor,\n",
    "                                                           \"race\": race_tensor,\n",
    "                                                           \"sex\": sex_tensor,\n",
    "                                                           \"capital_gain\": gain_tensor, \n",
    "                                                           \"capital_loss\": loss_tensor,\n",
    "                                                           \"hours_per_week\":hours_tensor,\n",
    "                                                           \"country\":country_tensor}) \n",
    "    return request"
   ]
  },
  {
   "cell_type": "code",
   "execution_count": 5,
   "metadata": {
    "ExecuteTime": {
     "end_time": "2019-09-27T10:54:04.539217Z",
     "start_time": "2019-09-27T10:54:03.392314Z"
    }
   },
   "outputs": [
    {
     "name": "stdout",
     "output_type": "stream",
     "text": [
      "Result class: 0\n"
     ]
    }
   ],
   "source": [
    "# Send data to \"adult_scalar\" application\n",
    "result = stub.Predict(pack_value_into_request(np.ones((12,), dtype=\"int64\")))\n",
    "classes = result.outputs['classes'].int64_val[0]\n",
    "print(f'Result class: {classes}')"
   ]
  },
  {
   "cell_type": "markdown",
   "metadata": {},
   "source": [
    "## Simulate production data stream"
   ]
  },
  {
   "cell_type": "code",
   "execution_count": 6,
   "metadata": {
    "ExecuteTime": {
     "end_time": "2019-09-27T10:54:05.069796Z",
     "start_time": "2019-09-27T10:54:04.541853Z"
    }
   },
   "outputs": [],
   "source": [
    "import pandas as pd\n",
    "import time \n",
    "from tqdm.auto import tqdm\n",
    "\n",
    "data = pd.read_csv(\"../data/validation.csv\")\n",
    "dirty_data = pd.read_csv(\"../data/dirty_data.csv\")"
   ]
  },
  {
   "cell_type": "code",
   "execution_count": 7,
   "metadata": {
    "ExecuteTime": {
     "end_time": "2019-09-27T11:02:46.602986Z",
     "start_time": "2019-09-27T10:54:05.073957Z"
    }
   },
   "outputs": [
    {
     "data": {
      "application/vnd.jupyter.widget-view+json": {
       "model_id": "514bbe849db84afbba104313a7a8cbde",
       "version_major": 2,
       "version_minor": 0
      },
      "text/plain": [
       "HBox(children=(IntProgress(value=0, max=500), HTML(value='')))"
      ]
     },
     "metadata": {},
     "output_type": "display_data"
    },
    {
     "name": "stdout",
     "output_type": "stream",
     "text": [
      "\n"
     ]
    }
   ],
   "source": [
    "# Send 500 samples of normal data\n",
    "counter = 0\n",
    "for idx, row in tqdm(data.iloc[:500].iterrows(), total=500):\n",
    "    x = np.array(row)\n",
    "    request = pack_value_into_request(x)\n",
    "    result = stub.Predict(request)\n",
    "    time.sleep(1)"
   ]
  },
  {
   "cell_type": "code",
   "execution_count": 17,
   "metadata": {
    "ExecuteTime": {
     "end_time": "2019-09-27T11:49:31.210403Z",
     "start_time": "2019-09-27T11:49:31.206813Z"
    }
   },
   "outputs": [],
   "source": [
    "# Send an infinite stream of data\n",
    "counter = 0\n",
    "dirty_sample = dirty_data.iloc[2500:].sample(1000)"
   ]
  },
  {
   "cell_type": "code",
   "execution_count": 18,
   "metadata": {
    "ExecuteTime": {
     "end_time": "2019-09-27T11:54:20.792341Z",
     "start_time": "2019-09-27T11:49:46.359588Z"
    }
   },
   "outputs": [
    {
     "data": {
      "application/vnd.jupyter.widget-view+json": {
       "model_id": "9ffee83437df4207ae44307098774d9a",
       "version_major": 2,
       "version_minor": 0
      },
      "text/plain": [
       "HBox(children=(IntProgress(value=0, max=1000), HTML(value='')))"
      ]
     },
     "metadata": {},
     "output_type": "display_data"
    },
    {
     "name": "stdout",
     "output_type": "stream",
     "text": [
      "\n"
     ]
    }
   ],
   "source": [
    "for idx, row in tqdm(dirty_sample.iterrows(), total=len(dirty_sample)):\n",
    "    x = np.array(row)\n",
    "    request = pack_value_into_request(x)\n",
    "    result = stub.Predict(request)\n",
    "    time.sleep(0.25)"
   ]
  },
  {
   "cell_type": "code",
   "execution_count": null,
   "metadata": {},
   "outputs": [],
   "source": []
  }
 ],
 "metadata": {
  "colab": {
   "name": "Untitled20.ipynb",
   "provenance": [],
   "version": "0.3.2"
  },
  "kernelspec": {
   "display_name": "Python 3",
   "language": "python",
   "name": "python3"
  },
  "language_info": {
   "codemirror_mode": {
    "name": "ipython",
    "version": 3
   },
   "file_extension": ".py",
   "mimetype": "text/x-python",
   "name": "python",
   "nbconvert_exporter": "python",
   "pygments_lexer": "ipython3",
   "version": "3.7.3"
  },
  "pycharm": {
   "stem_cell": {
    "cell_type": "raw",
    "metadata": {
     "collapsed": false
    },
    "source": []
   }
  }
 },
 "nbformat": 4,
 "nbformat_minor": 1
}
